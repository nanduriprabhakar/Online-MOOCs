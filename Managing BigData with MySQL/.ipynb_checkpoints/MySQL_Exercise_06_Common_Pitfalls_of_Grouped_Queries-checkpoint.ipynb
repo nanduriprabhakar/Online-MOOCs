{
 "cells": [
  {
   "cell_type": "markdown",
   "metadata": {},
   "source": [
    "Copyright Jana Schaich Borg/Attribution-NonCommercial 4.0 International (CC BY-NC 4.0)"
   ]
  },
  {
   "cell_type": "markdown",
   "metadata": {},
   "source": [
    "It looks like in both of these cases, MySQL is likely populating the unaggregated column with the first value it finds in that column within the first \"group\" of rows it is examining.  \n",
    "\n",
    "So how do we prevent this from happening?\n",
    "\n",
    "><mark>The only way to be sure how the MySQL database will summarize a set of data in a SELECT clause is to tell it how to do so with an aggregate function.<mark\\>\n",
    "\n",
    "I should have written my original request to read:\n",
    "\n",
    "\"I would like to know, for *each breed type* of dog, *the number of* unique Dog_Guids there are in the Dognition database and *the breed_type's average weight*.\"\n",
    "\n",
    "The query that would have reflected this sentence would have executed an aggregate function for both Dog_Guids and weight.  The output of these aggregate functions would be unambiguous, and would easily be represented in a single table.  \n",
    "  \n",
    "   \n",
    "## 2. Errors due to Aggregation Mismatches\n",
    "\n",
    "It is important to note that the issues I described above are the consequence of mismatching aggregate and non-aggregate functions through the GROUP BY clause in MySQL, but other databases manifest the problem in a different way.  Other databases won't allow you to run the queries described above at all.  When you try to do so, you get an error message that sounds something like:\n",
    "\n",
    "```\n",
    "Column 'X' is invalid in the select list because it is not contained in either an aggregate function or the GROUP BY clause.\n",
    "```\n",
    "\n",
    "Especially when you are just starting to learn MySQL, these error messages can be confusing and infuriating.  A good discussion of this problem can be found here:\n",
    "\n",
    "http://weblogs.sqlteam.com/jeffs/archive/2007/07/20/but-why-must-that-column-be-contained-in-an-aggregate.aspx\n",
    "\n",
    "As a way to prevent these logical mismatches or error messages, you will often hear a rule that \"every non-aggregated field that is listed in the SELECT list *must* be listed in the GROUP BY list.\"  You have just seen that this rule is not true in MySQL, which makes MySQL both more flexible and more tricky to work with.  However, it is a useful rule of thumb for helping you avoid unknown mismatch errors.\n",
    "\n",
    "\n",
    "\n",
    "## 3. By the way, even if you want to, there is no way to intentionally include aggregation mismatches in a single query\n",
    "\n",
    "\n",
    "You might want to know the total number of unique User_Guids in the Dognition database, and in addition, the total number of unique User_Guids and average weight associated with each breed type. Given that you want to see the information efficiently to help you make decisions, you would like all of this information in one output.  After all, that would be easy to do in Excel, given that all of this information could easily be summarized in a single worksheet.\n",
    "\n",
    "To retrieve this information, you try one of the queries described above.  Since you know the rule describing the relationship between fields in the SELECT and GROUP BY clauses, you write:\n",
    "\n",
    "```mySQL\n",
    "SELECT COUNT(DISTINCT dog_guid), breed_type, AVG(weight) AS avg_weight, \n",
    "FROM dogs\n",
    "GROUP BY breed_type;\n",
    "```\n",
    "\n",
    "The output to your query gives you four rows with the correct information, but it doesn't give you a count of the entire table without the groups being applied.  Surely there must be a way to write a sophisticated query that can put these two pieces of information together for you, right?\n",
    "\n",
    "Hopefully the discussion in the section above has already made it clear that the answer to this has to be \"no.\"  The output of every SQL query is a table.  Can you think of a single table that could logically contain aggregated and non-aggregated data?  You could put both types of information in an Excel worksheet, but not a single table.  \n",
    "\n",
    "There's yet another more practical reason the information you want can't be selected in a single query.  The order of SQL queries is meant to reflect the way we write sentences, but in actuality they are actually executed in a different order than we write them.  The cartoon below shows the order we write the queries being sent to the database at the top of the funnel, and the order the database usually executes the queries on the conveyer belt. \n",
    "\n",
    "\n",
    "<img src=\"https://duke.box.com/shared/static/irmwu5o8qcx4ctapjt5h0bs4nsrii1cl.jpg\" width=600 alt=\"ORDER\" />\n",
    "\n",
    "This diagram shows you that data are actually grouped before the SELECT expressions are applied.  That means that when a GROUP BY expression is included in an SQL query, there is no way to use a SELECT statement to summarize data that cross multiple groups.  The data will have already been separated by the time the SELECT statement is applied.  The only way to get the information you want is to write two separate queries.  This concept can be difficult to understand when you start using SQL for the first time after exclusively using Excel, but soon you will be come accustomed to it. \n",
    "\n",
    "By the way, this diagram also shows you why some platforms and some queries in some platforms crash when you try to use aliases or derived fields in WHERE, GROUP BY, or HAVING clauses.  If the SELECT statement hasn't been run yet, the alias or derived fields won't be available (as a reminder, some database systems--like MySQL--have found ways to overcome this issue).  On the other hand, SELECT is executed before ORDER BY clauses.  That means most database systems should be able to use aliases and derived fields in ORDER BY clauses.\n",
    "\n",
    "\n",
    "\n",
    "\n",
    "## Now that you are knowledgeable about the common pitfalls caused by GROUP BY, you are ready to perform one of the most powerful and fundamental utlities of a relational database: JOINS!  Watch the next video to learn more about how joins work.\n"
   ]
  },
  {
   "cell_type": "code",
   "execution_count": null,
   "metadata": {
    "collapsed": true
   },
   "outputs": [],
   "source": []
  }
 ],
 "metadata": {
  "kernelspec": {
   "display_name": "Python 3",
   "language": "python",
   "name": "python3"
  },
  "language_info": {
   "codemirror_mode": {
    "name": "ipython",
    "version": 3
   },
   "file_extension": ".py",
   "mimetype": "text/x-python",
   "name": "python",
   "nbconvert_exporter": "python",
   "pygments_lexer": "ipython3",
   "version": "3.6.2"
  }
 },
 "nbformat": 4,
 "nbformat_minor": 1
}
